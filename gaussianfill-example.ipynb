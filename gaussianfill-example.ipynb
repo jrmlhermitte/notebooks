{
 "cells": [
  {
   "cell_type": "code",
   "execution_count": 14,
   "metadata": {
    "collapsed": false
   },
   "outputs": [],
   "source": [
    "import h5py\n",
    "from skbeam.core.image import gaussfill\n",
    "import numpy as np\n",
    "from pyCXD.detector.eiger import EigerImages\n",
    "from skimage.restoration import inpaint\n",
    "\n",
    "from matplotlib.pyplot import figure, ion, clf, imshow, clim, xlim,ylim, subplot\n",
    "%matplotlib inline\n"
   ]
  },
  {
   "cell_type": "code",
   "execution_count": 15,
   "metadata": {
    "collapsed": false
   },
   "outputs": [],
   "source": [
    "# load some example data\n",
    "npdata = np.load(\"data/imagefill-data.npz\")\n",
    "\n",
    "#this image was averaged over 10 frames\n",
    "img = npdata['img']\n",
    "mask = npdata['mask']\n",
    "x0 = npdata['XCEN']\n",
    "y0 = npdata['YCEN']"
   ]
  },
  {
   "cell_type": "code",
   "execution_count": 16,
   "metadata": {
    "collapsed": true
   },
   "outputs": [],
   "source": [
    "#img = np.random.random((10,10))\n",
    "#mask = np.ones_like(img)\n",
    "#mask[5,6] = 0\n",
    "#mask[9,4] = 0"
   ]
  },
  {
   "cell_type": "code",
   "execution_count": null,
   "metadata": {
    "collapsed": false
   },
   "outputs": [],
   "source": [
    "img_inpaint = inpaint.inpaint_biharmonic(img,mask==0)"
   ]
  },
  {
   "cell_type": "code",
   "execution_count": 11,
   "metadata": {
    "collapsed": false
   },
   "outputs": [],
   "source": [
    "# Navg is 10 because we need to sample from a Poisson distribution assuming\n",
    "# the count rate was 10 times higher and variance reduced by a factor of sqrt(10)\n",
    "img_gaussfilled = gaussfill(img,mask,sigma=30,poisson=True,Navg=10)\n",
    "# calculate the new mask to see what has been filled\n",
    "newmask_gaussfilled = gaussfill(np.ones(mask.shape), mask, sigma=30) > 1e-6\n",
    "# we can use a circular average as well"
   ]
  },
  {
   "cell_type": "code",
   "execution_count": 13,
   "metadata": {
    "collapsed": false
   },
   "outputs": [
    {
     "data": {
      "image/png": "[encoded data removed]",
      "text/plain": [
       "<matplotlib.figure.Figure at 0x7f952d889b00>"
      ]
     },
     "metadata": {},
     "output_type": "display_data"
    },
    {
     "data": {
      "image/png": "[encoded data removed]",
      "text/plain": [
       "<matplotlib.figure.Figure at 0x7f952de6fa90>"
      ]
     },
     "metadata": {},
     "output_type": "display_data"
    },
    {
     "data": {
      "image/png": "[encoded data removed]",
      "text/plain": [
       "<matplotlib.figure.Figure at 0x7f952d875b00>"
      ]
     },
     "metadata": {},
     "output_type": "display_data"
    }
   ],
   "source": [
    "figure(0);clf()\n",
    "imshow(mask*img);clim(0,10)\n",
    "figure(1);clf()\n",
    "imshow(img_gaussfilled);clim(0,10)\n",
    "#xlim(1000,1500);ylim(1500,1000)\n",
    "figure(2);clf();\n",
    "imshow(img_inpaint)\n",
    "clim(0,10)\n"
   ]
  },
  {
   "cell_type": "code",
   "execution_count": null,
   "metadata": {
    "collapsed": false
   },
   "outputs": [],
   "source": [
    "figure(3);clf();\n",
    "imshow(newmask_gaussfilled)"
   ]
  },
  {
   "cell_type": "code",
   "execution_count": null,
   "metadata": {
    "collapsed": true
   },
   "outputs": [],
   "source": []
  },
  {
   "cell_type": "code",
   "execution_count": null,
   "metadata": {
    "collapsed": true
   },
   "outputs": [],
   "source": []
  }
 ],
 "metadata": {
  "kernelspec": {
   "display_name": "Python 3",
   "language": "python",
   "name": "python3"
  },
  "language_info": {
   "codemirror_mode": {
    "name": "ipython",
    "version": 3
   },
   "file_extension": ".py",
   "mimetype": "text/x-python",
   "name": "python",
   "nbconvert_exporter": "python",
   "pygments_lexer": "ipython3",
   "version": "3.5.2"
  }
 },
 "nbformat": 4,
 "nbformat_minor": 0
}
