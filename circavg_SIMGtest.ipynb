{
 "cells": [
  {
   "cell_type": "code",
   "execution_count": 11,
   "metadata": {
    "collapsed": true
   },
   "outputs": [],
   "source": [
    "from skbeam.core import utils\n",
    "from skbeam.core.roi import circular_average\n",
    "import numpy as np\n",
    "\n",
    "\n",
    "from matplotlib.pyplot import figure, ion, clf, imshow, clim, xlim,ylim, subplot\n",
    "%matplotlib inline"
   ]
  },
  {
   "cell_type": "code",
   "execution_count": 12,
   "metadata": {
    "collapsed": true
   },
   "outputs": [],
   "source": [
    "# load some example data\n",
    "npdata = np.load(\"data/imagefill-data.npz\")\n",
    "\n",
    "#this image was averaged over 10 frames\n",
    "img = npdata['img']\n",
    "mask = npdata['mask']\n",
    "x0 = npdata['XCEN']\n",
    "y0 = npdata['YCEN']\n",
    "r0 = y0, x0"
   ]
  },
  {
   "cell_type": "code",
   "execution_count": 13,
   "metadata": {
    "collapsed": true
   },
   "outputs": [],
   "source": [
    "# setup SIMG\n",
    "SIMG= np.zeros_like(img)"
   ]
  },
  {
   "cell_type": "code",
   "execution_count": null,
   "metadata": {
    "collapsed": false
   },
   "outputs": [],
   "source": [
    "sqx, sqy = circular_average(img, r0, mask=mask, min_x=10, max_x = 1400, nx=1300, SIMG=SIMG)"
   ]
  },
  {
   "cell_type": "code",
   "execution_count": null,
   "metadata": {
    "collapsed": false
   },
   "outputs": [
    {
     "data": {
      "text/plain": [
       "<matplotlib.image.AxesImage at 0x7fd32e2d5668>"
      ]
     },
     "execution_count": 15,
     "metadata": {},
     "output_type": "execute_result"
    }
   ],
   "source": [
    "figure(0);clf();\n",
    "imshow(SIMG)"
   ]
  },
  {
   "cell_type": "code",
   "execution_count": null,
   "metadata": {
    "collapsed": true
   },
   "outputs": [],
   "source": []
  }
 ],
 "metadata": {
  "kernelspec": {
   "display_name": "Python 3",
   "language": "python",
   "name": "python3"
  },
  "language_info": {
   "codemirror_mode": {
    "name": "ipython",
    "version": 3
   },
   "file_extension": ".py",
   "mimetype": "text/x-python",
   "name": "python",
   "nbconvert_exporter": "python",
   "pygments_lexer": "ipython3",
   "version": "3.5.2"
  }
 },
 "nbformat": 4,
 "nbformat_minor": 0
}
